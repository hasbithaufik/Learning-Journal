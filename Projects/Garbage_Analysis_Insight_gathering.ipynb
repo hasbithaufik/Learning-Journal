{
 "cells": [
  {
   "cell_type": "markdown",
   "metadata": {},
   "source": [
    "## Garbage Analaysis: Insight Gathering\n",
    "## Hasbi Thaufik Oktodila"
   ]
  },
  {
   "cell_type": "markdown",
   "metadata": {},
   "source": [
    "### Overview\n",
    "\n",
    "### Langkah-langkah pengerjaan:\n",
    "- Data Loading\n",
    "- Data Processing\n",
    "    - Memeriksa informasi data\n",
    "    - Memeriksa nilai Null\n",
    "    - Menghapus nilai Null\n",
    "- Data Exploration\n",
    "    - Melakukan eksplorasi data untuk memilih site yang akan diteliti\n",
    "\n"
   ]
  },
  {
   "cell_type": "markdown",
   "metadata": {},
   "source": [
    "### Import Library"
   ]
  },
  {
   "cell_type": "code",
   "execution_count": 25,
   "metadata": {},
   "outputs": [],
   "source": [
    "import pandas as pd\n",
    "import matplotlib.pyplot as plt\n",
    "from scipy import stats\n",
    "import seaborn as sns\n",
    "import numpy as np"
   ]
  },
  {
   "cell_type": "markdown",
   "metadata": {},
   "source": [
    "### Data Loading"
   ]
  },
  {
   "cell_type": "code",
   "execution_count": 3,
   "metadata": {},
   "outputs": [
    {
     "data": {
      "text/html": [
       "<div>\n",
       "<style scoped>\n",
       "    .dataframe tbody tr th:only-of-type {\n",
       "        vertical-align: middle;\n",
       "    }\n",
       "\n",
       "    .dataframe tbody tr th {\n",
       "        vertical-align: top;\n",
       "    }\n",
       "\n",
       "    .dataframe thead th {\n",
       "        text-align: right;\n",
       "    }\n",
       "</style>\n",
       "<table border=\"1\" class=\"dataframe\">\n",
       "  <thead>\n",
       "    <tr style=\"text-align: right;\">\n",
       "      <th></th>\n",
       "      <th>report_date</th>\n",
       "      <th>load_time</th>\n",
       "      <th>load_type</th>\n",
       "      <th>load_weight</th>\n",
       "      <th>dropoff_site</th>\n",
       "    </tr>\n",
       "  </thead>\n",
       "  <tbody>\n",
       "    <tr>\n",
       "      <th>0</th>\n",
       "      <td>2021-01-01</td>\n",
       "      <td>2021-01-01 12:00:00 UTC</td>\n",
       "      <td>SWEEPING</td>\n",
       "      <td>NaN</td>\n",
       "      <td>ONION CREEK</td>\n",
       "    </tr>\n",
       "    <tr>\n",
       "      <th>1</th>\n",
       "      <td>2021-01-01</td>\n",
       "      <td>2021-01-01 12:00:00 UTC</td>\n",
       "      <td>SWEEPING</td>\n",
       "      <td>NaN</td>\n",
       "      <td>ONION CREEK</td>\n",
       "    </tr>\n",
       "    <tr>\n",
       "      <th>2</th>\n",
       "      <td>2021-01-01</td>\n",
       "      <td>2021-01-01 12:00:00 UTC</td>\n",
       "      <td>SWEEPING</td>\n",
       "      <td>NaN</td>\n",
       "      <td>ONION CREEK</td>\n",
       "    </tr>\n",
       "    <tr>\n",
       "      <th>3</th>\n",
       "      <td>2021-01-01</td>\n",
       "      <td>2021-01-01 12:00:00 UTC</td>\n",
       "      <td>SWEEPING</td>\n",
       "      <td>NaN</td>\n",
       "      <td>ONION CREEK</td>\n",
       "    </tr>\n",
       "    <tr>\n",
       "      <th>4</th>\n",
       "      <td>2021-01-02</td>\n",
       "      <td>2021-01-02 09:24:00 UTC</td>\n",
       "      <td>TIRES</td>\n",
       "      <td>1640.0</td>\n",
       "      <td>MRF</td>\n",
       "    </tr>\n",
       "  </tbody>\n",
       "</table>\n",
       "</div>"
      ],
      "text/plain": [
       "  report_date                load_time load_type  load_weight dropoff_site\n",
       "0  2021-01-01  2021-01-01 12:00:00 UTC  SWEEPING          NaN  ONION CREEK\n",
       "1  2021-01-01  2021-01-01 12:00:00 UTC  SWEEPING          NaN  ONION CREEK\n",
       "2  2021-01-01  2021-01-01 12:00:00 UTC  SWEEPING          NaN  ONION CREEK\n",
       "3  2021-01-01  2021-01-01 12:00:00 UTC  SWEEPING          NaN  ONION CREEK\n",
       "4  2021-01-02  2021-01-02 09:24:00 UTC     TIRES       1640.0          MRF"
      ]
     },
     "execution_count": 3,
     "metadata": {},
     "output_type": "execute_result"
    }
   ],
   "source": [
    "df = pd.read_csv('h8dsft_P0GC2_hasbi-thaufik-oktodila.csv')\n",
    "df.head()"
   ]
  },
  {
   "cell_type": "markdown",
   "metadata": {},
   "source": [
    "### Data Processing"
   ]
  },
  {
   "cell_type": "markdown",
   "metadata": {},
   "source": [
    "##### Melihat jumlah row"
   ]
  },
  {
   "cell_type": "code",
   "execution_count": 4,
   "metadata": {},
   "outputs": [
    {
     "data": {
      "text/plain": [
       "(26157, 5)"
      ]
     },
     "execution_count": 4,
     "metadata": {},
     "output_type": "execute_result"
    }
   ],
   "source": [
    "df.shape"
   ]
  },
  {
   "cell_type": "markdown",
   "metadata": {},
   "source": [
    "#### Mengecek Jumlah dan Nama Kolom"
   ]
  },
  {
   "cell_type": "code",
   "execution_count": 5,
   "metadata": {},
   "outputs": [
    {
     "data": {
      "text/plain": [
       "report_date     1\n",
       "load_time       1\n",
       "load_type       1\n",
       "load_weight     1\n",
       "dropoff_site    1\n",
       "dtype: int64"
      ]
     },
     "execution_count": 5,
     "metadata": {},
     "output_type": "execute_result"
    }
   ],
   "source": [
    "df.columns.value_counts()"
   ]
  },
  {
   "cell_type": "markdown",
   "metadata": {},
   "source": [
    "#### Mengecek Tipe Data"
   ]
  },
  {
   "cell_type": "code",
   "execution_count": 7,
   "metadata": {},
   "outputs": [
    {
     "name": "stdout",
     "output_type": "stream",
     "text": [
      "<class 'pandas.core.frame.DataFrame'>\n",
      "RangeIndex: 26157 entries, 0 to 26156\n",
      "Data columns (total 5 columns):\n",
      " #   Column        Non-Null Count  Dtype  \n",
      "---  ------        --------------  -----  \n",
      " 0   report_date   26157 non-null  object \n",
      " 1   load_time     26157 non-null  object \n",
      " 2   load_type     26157 non-null  object \n",
      " 3   load_weight   25109 non-null  float64\n",
      " 4   dropoff_site  26157 non-null  object \n",
      "dtypes: float64(1), object(4)\n",
      "memory usage: 1021.9+ KB\n"
     ]
    }
   ],
   "source": [
    "df.info()"
   ]
  },
  {
   "cell_type": "markdown",
   "metadata": {},
   "source": [
    "#### Mengecek Data Null"
   ]
  },
  {
   "cell_type": "code",
   "execution_count": 41,
   "metadata": {},
   "outputs": [
    {
     "data": {
      "text/plain": [
       "report_date  load_time  load_type  load_weight  dropoff_site\n",
       "False        False      False      False        False           25109\n",
       "                                   True         False            1048\n",
       "dtype: int64"
      ]
     },
     "execution_count": 41,
     "metadata": {},
     "output_type": "execute_result"
    }
   ],
   "source": [
    "df.isna().value_counts()"
   ]
  },
  {
   "cell_type": "code",
   "execution_count": 50,
   "metadata": {},
   "outputs": [
    {
     "data": {
      "text/html": [
       "<div>\n",
       "<style scoped>\n",
       "    .dataframe tbody tr th:only-of-type {\n",
       "        vertical-align: middle;\n",
       "    }\n",
       "\n",
       "    .dataframe tbody tr th {\n",
       "        vertical-align: top;\n",
       "    }\n",
       "\n",
       "    .dataframe thead th {\n",
       "        text-align: right;\n",
       "    }\n",
       "</style>\n",
       "<table border=\"1\" class=\"dataframe\">\n",
       "  <thead>\n",
       "    <tr style=\"text-align: right;\">\n",
       "      <th></th>\n",
       "      <th>report_date</th>\n",
       "      <th>load_time</th>\n",
       "      <th>load_type</th>\n",
       "      <th>load_weight</th>\n",
       "      <th>dropoff_site</th>\n",
       "    </tr>\n",
       "  </thead>\n",
       "  <tbody>\n",
       "    <tr>\n",
       "      <th>4</th>\n",
       "      <td>2021-01-02</td>\n",
       "      <td>2021-01-02 09:24:00 UTC</td>\n",
       "      <td>TIRES</td>\n",
       "      <td>1640.0</td>\n",
       "      <td>MRF</td>\n",
       "    </tr>\n",
       "    <tr>\n",
       "      <th>5</th>\n",
       "      <td>2021-01-02</td>\n",
       "      <td>2021-01-02 11:47:00 UTC</td>\n",
       "      <td>TIRES</td>\n",
       "      <td>940.0</td>\n",
       "      <td>MRF</td>\n",
       "    </tr>\n",
       "    <tr>\n",
       "      <th>6</th>\n",
       "      <td>2021-01-02</td>\n",
       "      <td>2021-01-02 12:00:00 UTC</td>\n",
       "      <td>RECYCLING - SINGLE STREAM</td>\n",
       "      <td>320.0</td>\n",
       "      <td>TDS - MRF</td>\n",
       "    </tr>\n",
       "    <tr>\n",
       "      <th>7</th>\n",
       "      <td>2021-01-02</td>\n",
       "      <td>2021-01-02 09:02:00 UTC</td>\n",
       "      <td>RECYCLING - SINGLE STREAM</td>\n",
       "      <td>520.0</td>\n",
       "      <td>TDS - MRF</td>\n",
       "    </tr>\n",
       "    <tr>\n",
       "      <th>11</th>\n",
       "      <td>2021-01-02</td>\n",
       "      <td>2021-01-02 05:44:00 UTC</td>\n",
       "      <td>YARD TRIMMING</td>\n",
       "      <td>17660.0</td>\n",
       "      <td>HORNSBY BEND</td>\n",
       "    </tr>\n",
       "  </tbody>\n",
       "</table>\n",
       "</div>"
      ],
      "text/plain": [
       "   report_date                load_time                  load_type  \\\n",
       "4   2021-01-02  2021-01-02 09:24:00 UTC                      TIRES   \n",
       "5   2021-01-02  2021-01-02 11:47:00 UTC                      TIRES   \n",
       "6   2021-01-02  2021-01-02 12:00:00 UTC  RECYCLING - SINGLE STREAM   \n",
       "7   2021-01-02  2021-01-02 09:02:00 UTC  RECYCLING - SINGLE STREAM   \n",
       "11  2021-01-02  2021-01-02 05:44:00 UTC              YARD TRIMMING   \n",
       "\n",
       "    load_weight  dropoff_site  \n",
       "4        1640.0           MRF  \n",
       "5         940.0           MRF  \n",
       "6         320.0     TDS - MRF  \n",
       "7         520.0     TDS - MRF  \n",
       "11      17660.0  HORNSBY BEND  "
      ]
     },
     "execution_count": 50,
     "metadata": {},
     "output_type": "execute_result"
    }
   ],
   "source": [
    "df = df.dropna(axis = 0)     # Mengahpus baris yang berisi Null, karena kolom load_weight masih dibutuhkan\n",
    "df.head()"
   ]
  },
  {
   "cell_type": "code",
   "execution_count": 51,
   "metadata": {},
   "outputs": [],
   "source": [
    "# df[df.duplicated()] # hanya duplikat"
   ]
  },
  {
   "cell_type": "code",
   "execution_count": 52,
   "metadata": {},
   "outputs": [],
   "source": [
    "# df[df.duplicated(keep=False)] # keseluruhan data yang terduplikasi"
   ]
  },
  {
   "cell_type": "code",
   "execution_count": 53,
   "metadata": {},
   "outputs": [],
   "source": [
    "# df[df.duplicated()].value_counts()"
   ]
  },
  {
   "cell_type": "code",
   "execution_count": 19,
   "metadata": {},
   "outputs": [
    {
     "data": {
      "text/plain": [
       "False    25712\n",
       "True       445\n",
       "dtype: int64"
      ]
     },
     "execution_count": 19,
     "metadata": {},
     "output_type": "execute_result"
    }
   ],
   "source": [
    "# df.duplicated().value_counts()"
   ]
  },
  {
   "cell_type": "code",
   "execution_count": 13,
   "metadata": {},
   "outputs": [
    {
     "data": {
      "text/plain": [
       "26"
      ]
     },
     "execution_count": 13,
     "metadata": {},
     "output_type": "execute_result"
    }
   ],
   "source": [
    "# sumdup = df[df.duplicated()].value_counts()\n",
    "# sumdup.sum()"
   ]
  },
  {
   "cell_type": "code",
   "execution_count": 21,
   "metadata": {},
   "outputs": [
    {
     "data": {
      "text/plain": [
       "(25712, 5)"
      ]
     },
     "execution_count": 21,
     "metadata": {},
     "output_type": "execute_result"
    }
   ],
   "source": [
    "# dfclean1 = df.drop_duplicates()\n",
    "# dfclean1.shape"
   ]
  },
  {
   "cell_type": "code",
   "execution_count": 23,
   "metadata": {},
   "outputs": [
    {
     "data": {
      "text/html": [
       "<div>\n",
       "<style scoped>\n",
       "    .dataframe tbody tr th:only-of-type {\n",
       "        vertical-align: middle;\n",
       "    }\n",
       "\n",
       "    .dataframe tbody tr th {\n",
       "        vertical-align: top;\n",
       "    }\n",
       "\n",
       "    .dataframe thead th {\n",
       "        text-align: right;\n",
       "    }\n",
       "</style>\n",
       "<table border=\"1\" class=\"dataframe\">\n",
       "  <thead>\n",
       "    <tr style=\"text-align: right;\">\n",
       "      <th></th>\n",
       "      <th>count</th>\n",
       "      <th>mean</th>\n",
       "      <th>std</th>\n",
       "      <th>min</th>\n",
       "      <th>25%</th>\n",
       "      <th>50%</th>\n",
       "      <th>75%</th>\n",
       "      <th>max</th>\n",
       "    </tr>\n",
       "  </thead>\n",
       "  <tbody>\n",
       "    <tr>\n",
       "      <th>load_weight</th>\n",
       "      <td>25083.0</td>\n",
       "      <td>12229.467191</td>\n",
       "      <td>7135.372881</td>\n",
       "      <td>0.0</td>\n",
       "      <td>7060.0</td>\n",
       "      <td>11300.0</td>\n",
       "      <td>16380.0</td>\n",
       "      <td>245540.0</td>\n",
       "    </tr>\n",
       "  </tbody>\n",
       "</table>\n",
       "</div>"
      ],
      "text/plain": [
       "               count          mean          std  min     25%      50%  \\\n",
       "load_weight  25083.0  12229.467191  7135.372881  0.0  7060.0  11300.0   \n",
       "\n",
       "                 75%       max  \n",
       "load_weight  16380.0  245540.0  "
      ]
     },
     "execution_count": 23,
     "metadata": {},
     "output_type": "execute_result"
    }
   ],
   "source": [
    "# dfclean1.describe().T"
   ]
  },
  {
   "cell_type": "code",
   "execution_count": 27,
   "metadata": {},
   "outputs": [
    {
     "data": {
      "text/plain": [
       "<AxesSubplot:>"
      ]
     },
     "execution_count": 27,
     "metadata": {},
     "output_type": "execute_result"
    },
    {
     "data": {
      "image/png": "[encoded data removed]",
      "text/plain": [
       "<Figure size 432x288 with 2 Axes>"
      ]
     },
     "metadata": {
      "needs_background": "light"
     },
     "output_type": "display_data"
    }
   ],
   "source": [
    "sns.heatmap(data=dfclean1.corr())"
   ]
  },
  {
   "cell_type": "code",
   "execution_count": 28,
   "metadata": {},
   "outputs": [
    {
     "data": {
      "text/html": [
       "<div>\n",
       "<style scoped>\n",
       "    .dataframe tbody tr th:only-of-type {\n",
       "        vertical-align: middle;\n",
       "    }\n",
       "\n",
       "    .dataframe tbody tr th {\n",
       "        vertical-align: top;\n",
       "    }\n",
       "\n",
       "    .dataframe thead th {\n",
       "        text-align: right;\n",
       "    }\n",
       "</style>\n",
       "<table border=\"1\" class=\"dataframe\">\n",
       "  <thead>\n",
       "    <tr style=\"text-align: right;\">\n",
       "      <th></th>\n",
       "      <th>report_date</th>\n",
       "      <th>load_time</th>\n",
       "      <th>load_type</th>\n",
       "      <th>load_weight</th>\n",
       "      <th>dropoff_site</th>\n",
       "    </tr>\n",
       "  </thead>\n",
       "  <tbody>\n",
       "    <tr>\n",
       "      <th>0</th>\n",
       "      <td>2021-01-01</td>\n",
       "      <td>2021-01-01 12:00:00 UTC</td>\n",
       "      <td>SWEEPING</td>\n",
       "      <td>NaN</td>\n",
       "      <td>ONION CREEK</td>\n",
       "    </tr>\n",
       "  </tbody>\n",
       "</table>\n",
       "</div>"
      ],
      "text/plain": [
       "  report_date                load_time load_type  load_weight dropoff_site\n",
       "0  2021-01-01  2021-01-01 12:00:00 UTC  SWEEPING          NaN  ONION CREEK"
      ]
     },
     "execution_count": 28,
     "metadata": {},
     "output_type": "execute_result"
    }
   ],
   "source": [
    "dfclean1.head(1)"
   ]
  },
  {
   "cell_type": "code",
   "execution_count": 29,
   "metadata": {},
   "outputs": [
    {
     "data": {
      "text/plain": [
       "GARBAGE COLLECTIONS          8242\n",
       "RECYCLING - SINGLE STREAM    6760\n",
       "ORGANICS                     5763\n",
       "BULK                         1594\n",
       "BRUSH                        1517\n",
       "SWEEPING                     1390\n",
       "MIXED LITTER                  329\n",
       "TIRES                         175\n",
       "DEAD ANIMAL                   150\n",
       "YARD TRIMMING                 137\n",
       "RECYCLED METAL                 57\n",
       "LITTER                         41\n",
       "CONTAMINATED RECYCLING          1\n",
       "CONTAMINATED ORGANICS           1\n",
       "Name: load_type, dtype: int64"
      ]
     },
     "execution_count": 29,
     "metadata": {},
     "output_type": "execute_result"
    }
   ],
   "source": [
    "df['load_type'].value_counts()"
   ]
  },
  {
   "cell_type": "code",
   "execution_count": 40,
   "metadata": {},
   "outputs": [
    {
     "data": {
      "image/png": "[encoded data removed]",
      "text/plain": [
       "<Figure size 432x288 with 1 Axes>"
      ]
     },
     "metadata": {
      "needs_background": "light"
     },
     "output_type": "display_data"
    }
   ],
   "source": [
    "df['dropoff_site'].value_counts().plot.bar()\n",
    "plt.tight_layout()\n",
    "plt.show()"
   ]
  },
  {
   "cell_type": "code",
   "execution_count": 34,
   "metadata": {},
   "outputs": [
    {
     "data": {
      "image/png": "[encoded data removed]",
      "text/plain": [
       "<Figure size 432x288 with 1 Axes>"
      ]
     },
     "metadata": {
      "needs_background": "light"
     },
     "output_type": "display_data"
    }
   ],
   "source": [
    "sns.countplot(data=df, x='dropoff_site')\n",
    "plt.tight_layout()"
   ]
  },
  {
   "cell_type": "code",
   "execution_count": 38,
   "metadata": {},
   "outputs": [
    {
     "ename": "AttributeError",
     "evalue": "'Rectangle' object has no property 'autopct'",
     "output_type": "error",
     "traceback": [
      "\u001b[0;31m---------------------------------------------------------------------------\u001b[0m",
      "\u001b[0;31mAttributeError\u001b[0m                            Traceback (most recent call last)",
      "\u001b[1;32m/Users/hasbithaufikoktodila/Hacktiv8/Phase 0/Linear Algebra/EDA_GC2.ipynb Cell 20\u001b[0m in \u001b[0;36m<cell line: 1>\u001b[0;34m()\u001b[0m\n\u001b[0;32m----> <a href='vscode-notebook-cell:/Users/hasbithaufikoktodila/Hacktiv8/Phase%200/Linear%20Algebra/EDA_GC2.ipynb#X25sZmlsZQ%3D%3D?line=0'>1</a>\u001b[0m df[\u001b[39m'\u001b[39;49m\u001b[39mdropoff_site\u001b[39;49m\u001b[39m'\u001b[39;49m]\u001b[39m.\u001b[39;49mvalue_counts()\u001b[39m.\u001b[39;49mplot\u001b[39m.\u001b[39;49mbar(autopct\u001b[39m=\u001b[39;49m\u001b[39m'\u001b[39;49m\u001b[39m%1.1f\u001b[39;49;00m\u001b[39m%%\u001b[39;49;00m\u001b[39m'\u001b[39;49m, labels \u001b[39m=\u001b[39;49m \u001b[39m'\u001b[39;49m\u001b[39mDrop Off Site Popularity\u001b[39;49m\u001b[39m'\u001b[39;49m, legend\u001b[39m=\u001b[39;49m\u001b[39mTrue\u001b[39;49;00m)\n",
      "File \u001b[0;32m/opt/anaconda3/lib/python3.9/site-packages/pandas/plotting/_core.py:1131\u001b[0m, in \u001b[0;36mPlotAccessor.bar\u001b[0;34m(self, x, y, **kwargs)\u001b[0m\n\u001b[1;32m   1043\u001b[0m \u001b[39m@Appender\u001b[39m(\n\u001b[1;32m   1044\u001b[0m     \u001b[39m\"\"\"\u001b[39;00m\n\u001b[1;32m   1045\u001b[0m \u001b[39m    See Also\u001b[39;00m\n\u001b[0;32m   (...)\u001b[0m\n\u001b[1;32m   1120\u001b[0m \u001b[39m@Appender\u001b[39m(_bar_or_line_doc)\n\u001b[1;32m   1121\u001b[0m \u001b[39mdef\u001b[39;00m \u001b[39mbar\u001b[39m(\u001b[39mself\u001b[39m, x\u001b[39m=\u001b[39m\u001b[39mNone\u001b[39;00m, y\u001b[39m=\u001b[39m\u001b[39mNone\u001b[39;00m, \u001b[39m*\u001b[39m\u001b[39m*\u001b[39mkwargs):\n\u001b[1;32m   1122\u001b[0m     \u001b[39m\"\"\"\u001b[39;00m\n\u001b[1;32m   1123\u001b[0m \u001b[39m    Vertical bar plot.\u001b[39;00m\n\u001b[1;32m   1124\u001b[0m \n\u001b[0;32m   (...)\u001b[0m\n\u001b[1;32m   1129\u001b[0m \u001b[39m    other axis represents a measured value.\u001b[39;00m\n\u001b[1;32m   1130\u001b[0m \u001b[39m    \"\"\"\u001b[39;00m\n\u001b[0;32m-> 1131\u001b[0m     \u001b[39mreturn\u001b[39;00m \u001b[39mself\u001b[39;49m(kind\u001b[39m=\u001b[39;49m\u001b[39m\"\u001b[39;49m\u001b[39mbar\u001b[39;49m\u001b[39m\"\u001b[39;49m, x\u001b[39m=\u001b[39;49mx, y\u001b[39m=\u001b[39;49my, \u001b[39m*\u001b[39;49m\u001b[39m*\u001b[39;49mkwargs)\n",
      "File \u001b[0;32m/opt/anaconda3/lib/python3.9/site-packages/pandas/plotting/_core.py:972\u001b[0m, in \u001b[0;36mPlotAccessor.__call__\u001b[0;34m(self, *args, **kwargs)\u001b[0m\n\u001b[1;32m    969\u001b[0m             label_name \u001b[39m=\u001b[39m label_kw \u001b[39mor\u001b[39;00m data\u001b[39m.\u001b[39mcolumns\n\u001b[1;32m    970\u001b[0m             data\u001b[39m.\u001b[39mcolumns \u001b[39m=\u001b[39m label_name\n\u001b[0;32m--> 972\u001b[0m \u001b[39mreturn\u001b[39;00m plot_backend\u001b[39m.\u001b[39;49mplot(data, kind\u001b[39m=\u001b[39;49mkind, \u001b[39m*\u001b[39;49m\u001b[39m*\u001b[39;49mkwargs)\n",
      "File \u001b[0;32m/opt/anaconda3/lib/python3.9/site-packages/pandas/plotting/_matplotlib/__init__.py:71\u001b[0m, in \u001b[0;36mplot\u001b[0;34m(data, kind, **kwargs)\u001b[0m\n\u001b[1;32m     69\u001b[0m         kwargs[\u001b[39m\"\u001b[39m\u001b[39max\u001b[39m\u001b[39m\"\u001b[39m] \u001b[39m=\u001b[39m \u001b[39mgetattr\u001b[39m(ax, \u001b[39m\"\u001b[39m\u001b[39mleft_ax\u001b[39m\u001b[39m\"\u001b[39m, ax)\n\u001b[1;32m     70\u001b[0m plot_obj \u001b[39m=\u001b[39m PLOT_CLASSES[kind](data, \u001b[39m*\u001b[39m\u001b[39m*\u001b[39mkwargs)\n\u001b[0;32m---> 71\u001b[0m plot_obj\u001b[39m.\u001b[39;49mgenerate()\n\u001b[1;32m     72\u001b[0m plot_obj\u001b[39m.\u001b[39mdraw()\n\u001b[1;32m     73\u001b[0m \u001b[39mreturn\u001b[39;00m plot_obj\u001b[39m.\u001b[39mresult\n",
      "File \u001b[0;32m/opt/anaconda3/lib/python3.9/site-packages/pandas/plotting/_matplotlib/core.py:329\u001b[0m, in \u001b[0;36mMPLPlot.generate\u001b[0;34m(self)\u001b[0m\n\u001b[1;32m    327\u001b[0m \u001b[39mself\u001b[39m\u001b[39m.\u001b[39m_compute_plot_data()\n\u001b[1;32m    328\u001b[0m \u001b[39mself\u001b[39m\u001b[39m.\u001b[39m_setup_subplots()\n\u001b[0;32m--> 329\u001b[0m \u001b[39mself\u001b[39;49m\u001b[39m.\u001b[39;49m_make_plot()\n\u001b[1;32m    330\u001b[0m \u001b[39mself\u001b[39m\u001b[39m.\u001b[39m_add_table()\n\u001b[1;32m    331\u001b[0m \u001b[39mself\u001b[39m\u001b[39m.\u001b[39m_make_legend()\n",
      "File \u001b[0;32m/opt/anaconda3/lib/python3.9/site-packages/pandas/plotting/_matplotlib/core.py:1558\u001b[0m, in \u001b[0;36mBarPlot._make_plot\u001b[0;34m(self)\u001b[0m\n\u001b[1;32m   1556\u001b[0m \u001b[39melse\u001b[39;00m:\n\u001b[1;32m   1557\u001b[0m     w \u001b[39m=\u001b[39m \u001b[39mself\u001b[39m\u001b[39m.\u001b[39mbar_width \u001b[39m/\u001b[39m K\n\u001b[0;32m-> 1558\u001b[0m     rect \u001b[39m=\u001b[39m \u001b[39mself\u001b[39;49m\u001b[39m.\u001b[39;49m_plot(\n\u001b[1;32m   1559\u001b[0m         ax,\n\u001b[1;32m   1560\u001b[0m         \u001b[39mself\u001b[39;49m\u001b[39m.\u001b[39;49max_pos \u001b[39m+\u001b[39;49m (i \u001b[39m+\u001b[39;49m \u001b[39m0.5\u001b[39;49m) \u001b[39m*\u001b[39;49m w,\n\u001b[1;32m   1561\u001b[0m         y,\n\u001b[1;32m   1562\u001b[0m         w,\n\u001b[1;32m   1563\u001b[0m         start\u001b[39m=\u001b[39;49mstart,\n\u001b[1;32m   1564\u001b[0m         label\u001b[39m=\u001b[39;49mlabel,\n\u001b[1;32m   1565\u001b[0m         log\u001b[39m=\u001b[39;49m\u001b[39mself\u001b[39;49m\u001b[39m.\u001b[39;49mlog,\n\u001b[1;32m   1566\u001b[0m         \u001b[39m*\u001b[39;49m\u001b[39m*\u001b[39;49mkwds,\n\u001b[1;32m   1567\u001b[0m     )\n\u001b[1;32m   1568\u001b[0m \u001b[39mself\u001b[39m\u001b[39m.\u001b[39m_append_legend_handles_labels(rect, label)\n",
      "File \u001b[0;32m/opt/anaconda3/lib/python3.9/site-packages/pandas/plotting/_matplotlib/core.py:1488\u001b[0m, in \u001b[0;36mBarPlot._plot\u001b[0;34m(cls, ax, x, y, w, start, log, **kwds)\u001b[0m\n\u001b[1;32m   1484\u001b[0m \u001b[39m@classmethod\u001b[39m\n\u001b[1;32m   1485\u001b[0m \u001b[39mdef\u001b[39;00m \u001b[39m_plot\u001b[39m(  \u001b[39m# type: ignore[override]\u001b[39;00m\n\u001b[1;32m   1486\u001b[0m     \u001b[39mcls\u001b[39m, ax: Axes, x, y, w, start\u001b[39m=\u001b[39m\u001b[39m0\u001b[39m, log\u001b[39m=\u001b[39m\u001b[39mFalse\u001b[39;00m, \u001b[39m*\u001b[39m\u001b[39m*\u001b[39mkwds\n\u001b[1;32m   1487\u001b[0m ):\n\u001b[0;32m-> 1488\u001b[0m     \u001b[39mreturn\u001b[39;00m ax\u001b[39m.\u001b[39;49mbar(x, y, w, bottom\u001b[39m=\u001b[39;49mstart, log\u001b[39m=\u001b[39;49mlog, \u001b[39m*\u001b[39;49m\u001b[39m*\u001b[39;49mkwds)\n",
      "File \u001b[0;32m/opt/anaconda3/lib/python3.9/site-packages/matplotlib/__init__.py:1412\u001b[0m, in \u001b[0;36m_preprocess_data.<locals>.inner\u001b[0;34m(ax, data, *args, **kwargs)\u001b[0m\n\u001b[1;32m   1409\u001b[0m \u001b[39m@functools\u001b[39m\u001b[39m.\u001b[39mwraps(func)\n\u001b[1;32m   1410\u001b[0m \u001b[39mdef\u001b[39;00m \u001b[39minner\u001b[39m(ax, \u001b[39m*\u001b[39margs, data\u001b[39m=\u001b[39m\u001b[39mNone\u001b[39;00m, \u001b[39m*\u001b[39m\u001b[39m*\u001b[39mkwargs):\n\u001b[1;32m   1411\u001b[0m     \u001b[39mif\u001b[39;00m data \u001b[39mis\u001b[39;00m \u001b[39mNone\u001b[39;00m:\n\u001b[0;32m-> 1412\u001b[0m         \u001b[39mreturn\u001b[39;00m func(ax, \u001b[39m*\u001b[39;49m\u001b[39mmap\u001b[39;49m(sanitize_sequence, args), \u001b[39m*\u001b[39;49m\u001b[39m*\u001b[39;49mkwargs)\n\u001b[1;32m   1414\u001b[0m     bound \u001b[39m=\u001b[39m new_sig\u001b[39m.\u001b[39mbind(ax, \u001b[39m*\u001b[39margs, \u001b[39m*\u001b[39m\u001b[39m*\u001b[39mkwargs)\n\u001b[1;32m   1415\u001b[0m     auto_label \u001b[39m=\u001b[39m (bound\u001b[39m.\u001b[39marguments\u001b[39m.\u001b[39mget(label_namer)\n\u001b[1;32m   1416\u001b[0m                   \u001b[39mor\u001b[39;00m bound\u001b[39m.\u001b[39mkwargs\u001b[39m.\u001b[39mget(label_namer))\n",
      "File \u001b[0;32m/opt/anaconda3/lib/python3.9/site-packages/matplotlib/axes/_axes.py:2403\u001b[0m, in \u001b[0;36mAxes.bar\u001b[0;34m(self, x, height, width, bottom, align, **kwargs)\u001b[0m\n\u001b[1;32m   2394\u001b[0m \u001b[39mfor\u001b[39;00m l, b, w, h, c, e, lw, htch \u001b[39min\u001b[39;00m args:\n\u001b[1;32m   2395\u001b[0m     r \u001b[39m=\u001b[39m mpatches\u001b[39m.\u001b[39mRectangle(\n\u001b[1;32m   2396\u001b[0m         xy\u001b[39m=\u001b[39m(l, b), width\u001b[39m=\u001b[39mw, height\u001b[39m=\u001b[39mh,\n\u001b[1;32m   2397\u001b[0m         facecolor\u001b[39m=\u001b[39mc,\n\u001b[0;32m   (...)\u001b[0m\n\u001b[1;32m   2401\u001b[0m         hatch\u001b[39m=\u001b[39mhtch,\n\u001b[1;32m   2402\u001b[0m         )\n\u001b[0;32m-> 2403\u001b[0m     r\u001b[39m.\u001b[39;49mupdate(kwargs)\n\u001b[1;32m   2404\u001b[0m     r\u001b[39m.\u001b[39mget_path()\u001b[39m.\u001b[39m_interpolation_steps \u001b[39m=\u001b[39m \u001b[39m100\u001b[39m\n\u001b[1;32m   2405\u001b[0m     \u001b[39mif\u001b[39;00m orientation \u001b[39m==\u001b[39m \u001b[39m'\u001b[39m\u001b[39mvertical\u001b[39m\u001b[39m'\u001b[39m:\n",
      "File \u001b[0;32m/opt/anaconda3/lib/python3.9/site-packages/matplotlib/artist.py:1064\u001b[0m, in \u001b[0;36mArtist.update\u001b[0;34m(self, props)\u001b[0m\n\u001b[1;32m   1062\u001b[0m             func \u001b[39m=\u001b[39m \u001b[39mgetattr\u001b[39m(\u001b[39mself\u001b[39m, \u001b[39mf\u001b[39m\u001b[39m\"\u001b[39m\u001b[39mset_\u001b[39m\u001b[39m{\u001b[39;00mk\u001b[39m}\u001b[39;00m\u001b[39m\"\u001b[39m, \u001b[39mNone\u001b[39;00m)\n\u001b[1;32m   1063\u001b[0m             \u001b[39mif\u001b[39;00m \u001b[39mnot\u001b[39;00m callable(func):\n\u001b[0;32m-> 1064\u001b[0m                 \u001b[39mraise\u001b[39;00m \u001b[39mAttributeError\u001b[39;00m(\u001b[39mf\u001b[39m\u001b[39m\"\u001b[39m\u001b[39m{\u001b[39;00m\u001b[39mtype\u001b[39m(\u001b[39mself\u001b[39m)\u001b[39m.\u001b[39m\u001b[39m__name__\u001b[39m\u001b[39m!r}\u001b[39;00m\u001b[39m object \u001b[39m\u001b[39m\"\u001b[39m\n\u001b[1;32m   1065\u001b[0m                                      \u001b[39mf\u001b[39m\u001b[39m\"\u001b[39m\u001b[39mhas no property \u001b[39m\u001b[39m{\u001b[39;00mk\u001b[39m!r}\u001b[39;00m\u001b[39m\"\u001b[39m)\n\u001b[1;32m   1066\u001b[0m             ret\u001b[39m.\u001b[39mappend(func(v))\n\u001b[1;32m   1067\u001b[0m \u001b[39mif\u001b[39;00m ret:\n",
      "\u001b[0;31mAttributeError\u001b[0m: 'Rectangle' object has no property 'autopct'"
     ]
    },
    {
     "data": {
      "image/png": "[encoded data removed]",
      "text/plain": [
       "<Figure size 432x288 with 1 Axes>"
      ]
     },
     "metadata": {
      "needs_background": "light"
     },
     "output_type": "display_data"
    }
   ],
   "source": [
    "df['dropoff_site'].value_counts().plot.bar(autopct='%1.1f%%', labels = 'Drop Off Site Popularity', legend=True)\n"
   ]
  },
  {
   "cell_type": "code",
   "execution_count": null,
   "metadata": {},
   "outputs": [],
   "source": []
  }
 ],
 "metadata": {
  "kernelspec": {
   "display_name": "Python 3.9.12 ('base')",
   "language": "python",
   "name": "python3"
  },
  "language_info": {
   "codemirror_mode": {
    "name": "ipython",
    "version": 3
   },
   "file_extension": ".py",
   "mimetype": "text/x-python",
   "name": "python",
   "nbconvert_exporter": "python",
   "pygments_lexer": "ipython3",
   "version": "3.9.12"
  },
  "orig_nbformat": 4,
  "vscode": {
   "interpreter": {
    "hash": "40d3a090f54c6569ab1632332b64b2c03c39dcf918b08424e98f38b5ae0af88f"
   }
  }
 },
 "nbformat": 4,
 "nbformat_minor": 2
}
